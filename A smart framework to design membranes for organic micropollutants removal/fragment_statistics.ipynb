{
 "cells": [
  {
   "cell_type": "code",
   "execution_count": 1,
   "id": "f7aba5be-e7ac-4fa0-9c45-903f8177c609",
   "metadata": {},
   "outputs": [
    {
     "name": "stderr",
     "output_type": "stream",
     "text": [
      "[15:59:58] WARNING: not removing hydrogen atom without neighbors\n",
      "[15:59:58] WARNING: not removing hydrogen atom without neighbors\n",
      "[15:59:58] WARNING: not removing hydrogen atom without neighbors\n",
      "[15:59:58] WARNING: not removing hydrogen atom without neighbors\n"
     ]
    },
    {
     "name": "stdout",
     "output_type": "stream",
     "text": [
      "1. Benzene Ring: 1299 times, SMILES: c1ccccc1\n",
      "2. Methyl (-CH3): 1276 times, SMILES: [CH3]\n",
      "3. Total Hydroxyl (-OH): 1201 times, SMILES: [OH]\n",
      "4. Carboxyl (-COOH): 594 times, SMILES: C(=O)[OH]\n",
      "5. Ether (-O-): 545 times, SMILES: [#6]-O-[#6]\n",
      "6. Amine (-NH2): 435 times, SMILES: [NH2]\n",
      "7. Chlorine (-Cl): 354 times, SMILES: [Cl]\n",
      "8. Amide (-CONH-): 308 times, SMILES: C(=O)N[#6]\n",
      "9. Fluorine (-F): 243 times, SMILES: [F]\n",
      "10. Ester (-COO-): 205 times, SMILES: C(=O)O[#6]\n",
      "11. Sulfonamide (-SO2NH-): 158 times, SMILES: S(=O)(=O)N[#6]\n",
      "12. Sulfonic Acid (-SO3H): 92 times, SMILES: S(=O)(=O)[OH]\n"
     ]
    }
   ],
   "source": [
    "import numpy as np\n",
    "import pandas as pd\n",
    "from rdkit import Chem\n",
    "from rdkit.Chem import Fragments\n",
    "from collections import Counter\n",
    "\n",
    "# Load the dataset\n",
    "datasets = pd.read_excel('ML-improve.xlsx')\n",
    "\n",
    "# Extract SMILES information\n",
    "smis = datasets.SMILES\n",
    "\n",
    "# Define functional groups using SMARTS patterns\n",
    "functional_groups = {\n",
    "    \"Total Hydroxyl (-OH)\": \"[OH]\",  \n",
    "    \"Carboxyl (-COOH)\": \"C(=O)[OH]\",  # Ensure C=O is directly bonded to OH\n",
    "    \"Benzene Ring\": \"c1ccccc1\",\n",
    "    \"Ether (-O-)\": \"[#6]-O-[#6]\",  # Ensure O is between two carbon atoms\n",
    "    \"Fluorine (-F)\": \"[F]\",\n",
    "    \"Chlorine (-Cl)\": \"[Cl]\",\n",
    "    \"Methyl (-CH3)\": \"[CH3]\",\n",
    "    \"Sulfonic Acid (-SO3H)\": \"S(=O)(=O)[OH]\",\n",
    "    \"Ester (-COO-)\": \"C(=O)O[#6]\",  # Ensure the ester oxygen is connected to a carbon, not hydrogen\n",
    "    \"Amine (-NH2)\": \"[NH2]\",\n",
    "    \"Amide (-CONH-)\": \"C(=O)N[#6]\",  # Avoid mismatches\n",
    "    \"Sulfonamide (-SO2NH-)\": \"S(=O)(=O)N[#6]\"  # Ensure nitrogen is bonded to a carbon\n",
    "}\n",
    "\n",
    "# Function to detect functional groups in a molecule\n",
    "def detect_fragments(mol):\n",
    "    fragment_counts = Counter()\n",
    "    for group, smarts in functional_groups.items():\n",
    "        if mol.HasSubstructMatch(Chem.MolFromSmarts(smarts)):\n",
    "            fragment_counts[group] += 1\n",
    "    return fragment_counts\n",
    "\n",
    "# Count functional groups across the entire dataset\n",
    "total_fragments = Counter()\n",
    "for smi in smis:\n",
    "    mol = Chem.MolFromSmiles(smi)\n",
    "    if mol:\n",
    "        total_fragments.update(detect_fragments(mol))\n",
    "\n",
    "# Get the 12 most common functional groups\n",
    "top_12_fragments = total_fragments.most_common(12)\n",
    "\n",
    "# Output the names and SMARTS of the top functional groups\n",
    "for idx, (frag_name, count) in enumerate(top_12_fragments, 1):\n",
    "    smiles = functional_groups.get(frag_name, \"N/A\")\n",
    "    print(f\"{idx}. {frag_name}: {count} times, SMILES: {smiles}\")\n"
   ]
  },
  {
   "cell_type": "code",
   "execution_count": null,
   "id": "4fc84416-b9f4-44fa-b83d-8a9f787dbcaf",
   "metadata": {},
   "outputs": [],
   "source": []
  }
 ],
 "metadata": {
  "kernelspec": {
   "display_name": "Python 3 (ipykernel)",
   "language": "python",
   "name": "python3"
  },
  "language_info": {
   "codemirror_mode": {
    "name": "ipython",
    "version": 3
   },
   "file_extension": ".py",
   "mimetype": "text/x-python",
   "name": "python",
   "nbconvert_exporter": "python",
   "pygments_lexer": "ipython3",
   "version": "3.11.7"
  }
 },
 "nbformat": 4,
 "nbformat_minor": 5
}
